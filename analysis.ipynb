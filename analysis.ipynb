{
 "cells": [
  {
   "cell_type": "code",
   "execution_count": 1,
   "id": "bb79d306",
   "metadata": {},
   "outputs": [],
   "source": [
    "import pandas as pd\n",
    "import csv\n",
    "from scipy.interpolate import interp1d\n",
    "import pandas as pd\n",
    "import matplotlib.pyplot as plt\n",
    "import numpy as np"
   ]
  },
  {
   "cell_type": "code",
   "execution_count": 16,
   "id": "effd4db9",
   "metadata": {},
   "outputs": [],
   "source": [
    "data = pd.read_csv('080923nucl.csv', names = ['Temperature', 'Absorption'])"
   ]
  },
  {
   "cell_type": "code",
   "execution_count": 17,
   "id": "bc277822",
   "metadata": {},
   "outputs": [
    {
     "data": {
      "text/html": [
       "<div>\n",
       "<style scoped>\n",
       "    .dataframe tbody tr th:only-of-type {\n",
       "        vertical-align: middle;\n",
       "    }\n",
       "\n",
       "    .dataframe tbody tr th {\n",
       "        vertical-align: top;\n",
       "    }\n",
       "\n",
       "    .dataframe thead th {\n",
       "        text-align: right;\n",
       "    }\n",
       "</style>\n",
       "<table border=\"1\" class=\"dataframe\">\n",
       "  <thead>\n",
       "    <tr style=\"text-align: right;\">\n",
       "      <th></th>\n",
       "      <th>Temperature</th>\n",
       "      <th>Absorption</th>\n",
       "    </tr>\n",
       "  </thead>\n",
       "  <tbody>\n",
       "    <tr>\n",
       "      <th>0</th>\n",
       "      <td>38.3070</td>\n",
       "      <td>0.351907</td>\n",
       "    </tr>\n",
       "    <tr>\n",
       "      <th>1</th>\n",
       "      <td>38.7333</td>\n",
       "      <td>0.351826</td>\n",
       "    </tr>\n",
       "    <tr>\n",
       "      <th>2</th>\n",
       "      <td>39.1739</td>\n",
       "      <td>0.352305</td>\n",
       "    </tr>\n",
       "    <tr>\n",
       "      <th>3</th>\n",
       "      <td>39.5932</td>\n",
       "      <td>0.352102</td>\n",
       "    </tr>\n",
       "    <tr>\n",
       "      <th>4</th>\n",
       "      <td>40.0258</td>\n",
       "      <td>0.352315</td>\n",
       "    </tr>\n",
       "    <tr>\n",
       "      <th>...</th>\n",
       "      <td>...</td>\n",
       "      <td>...</td>\n",
       "    </tr>\n",
       "    <tr>\n",
       "      <th>61</th>\n",
       "      <td>65.0673</td>\n",
       "      <td>0.464228</td>\n",
       "    </tr>\n",
       "    <tr>\n",
       "      <th>62</th>\n",
       "      <td>65.5168</td>\n",
       "      <td>0.464144</td>\n",
       "    </tr>\n",
       "    <tr>\n",
       "      <th>63</th>\n",
       "      <td>65.9617</td>\n",
       "      <td>0.465388</td>\n",
       "    </tr>\n",
       "    <tr>\n",
       "      <th>64</th>\n",
       "      <td>66.3868</td>\n",
       "      <td>0.464367</td>\n",
       "    </tr>\n",
       "    <tr>\n",
       "      <th>65</th>\n",
       "      <td>66.8499</td>\n",
       "      <td>0.465379</td>\n",
       "    </tr>\n",
       "  </tbody>\n",
       "</table>\n",
       "<p>66 rows × 2 columns</p>\n",
       "</div>"
      ],
      "text/plain": [
       "    Temperature  Absorption\n",
       "0       38.3070    0.351907\n",
       "1       38.7333    0.351826\n",
       "2       39.1739    0.352305\n",
       "3       39.5932    0.352102\n",
       "4       40.0258    0.352315\n",
       "..          ...         ...\n",
       "61      65.0673    0.464228\n",
       "62      65.5168    0.464144\n",
       "63      65.9617    0.465388\n",
       "64      66.3868    0.464367\n",
       "65      66.8499    0.465379\n",
       "\n",
       "[66 rows x 2 columns]"
      ]
     },
     "execution_count": 17,
     "metadata": {},
     "output_type": "execute_result"
    }
   ],
   "source": [
    "data"
   ]
  },
  {
   "cell_type": "code",
   "execution_count": 23,
   "id": "15165da4",
   "metadata": {},
   "outputs": [
    {
     "data": {
      "image/png": "[encoded data removed]",
      "text/plain": [
       "<Figure size 720x432 with 1 Axes>"
      ]
     },
     "metadata": {
      "needs_background": "light"
     },
     "output_type": "display_data"
    }
   ],
   "source": [
    "# Read the CSV file\n",
    "data = pd.read_csv('080923nucl.csv', names=['Temperature', 'Absorption'])\n",
    "\n",
    "# Extract the Temperature and Absorption columns\n",
    "temperature = data['Temperature']\n",
    "absorption = data['Absorption']\n",
    "\n",
    "# Create a scatter plot\n",
    "plt.figure(figsize=(10, 6))  # Adjust the figure size if needed\n",
    "plt.scatter(temperature, absorption, marker='o', color='b', label='Data Points')\n",
    "plt.title('Temperature vs. Absorption')\n",
    "plt.xlabel('Temperature')\n",
    "plt.ylabel('Absorption')\n",
    "plt.legend()\n",
    "plt.grid(True)\n",
    "\n",
    "# Show the plot\n",
    "plt.show()\n"
   ]
  },
  {
   "cell_type": "code",
   "execution_count": 29,
   "id": "3265dbff",
   "metadata": {},
   "outputs": [
    {
     "data": {
      "image/png": "[encoded data removed]",
      "text/plain": [
       "<Figure size 720x432 with 2 Axes>"
      ]
     },
     "metadata": {
      "needs_background": "light"
     },
     "output_type": "display_data"
    }
   ],
   "source": [
    "\n",
    "\n",
    "# Read the CSV file\n",
    "data = pd.read_csv('080923nucl.csv', names=['Temperature', 'Absorption'])\n",
    "\n",
    "# Extract the Temperature and Absorption columns\n",
    "temperature = data['Temperature']\n",
    "absorption = data['Absorption']\n",
    "\n",
    "# Find the index of the maximum absorption value\n",
    "max_absorption_index = absorption.idxmax()\n",
    "max_absorption_temperature = temperature[max_absorption_index]\n",
    "max_absorption_value = absorption[max_absorption_index]\n",
    "\n",
    "# Create a color map based on absorption values\n",
    "colors = absorption / max(absorption)\n",
    "\n",
    "# Create a scatter plot with custom colors\n",
    "plt.figure(figsize=(10, 6))\n",
    "scatter = plt.scatter(temperature, absorption, c=colors, cmap='viridis', marker='o', label='Data Points')\n",
    "plt.title('Temperature vs. Absorption', fontsize=16)\n",
    "plt.xlabel('Temperature (°C)', fontsize=12)\n",
    "plt.ylabel('Absorption', fontsize=12)\n",
    "plt.xticks(fontsize=10)\n",
    "plt.yticks(fontsize=10)\n",
    "plt.grid(True, linestyle='--', alpha=0.5)\n",
    "\n",
    "# Add a colorbar to indicate absorption values\n",
    "cbar = plt.colorbar(scatter)\n",
    "cbar.set_label('Absorption Value', fontsize=16)\n",
    "cbar.ax.tick_params(labelsize=10)\n",
    "\n",
    "# Highlight the maximum absorption point\n",
    "plt.scatter(max_absorption_temperature, max_absorption_value, color='red', marker='o', s=70, label='Max Absorption')\n",
    "\n",
    "plt.legend()\n",
    "plt.tight_layout()\n",
    "\n",
    "# Show the plot\n",
    "plt.show()\n"
   ]
  },
  {
   "cell_type": "code",
   "execution_count": 32,
   "id": "0e06908c",
   "metadata": {},
   "outputs": [
    {
     "name": "stdout",
     "output_type": "stream",
     "text": [
      "65.9617\n",
      "0.465388\n",
      "The temperature at which the absorption reaches a maximum is 65.9617 degrees Celsius.\n"
     ]
    }
   ],
   "source": [
    "print(max_absorption_temperature) \n",
    "print(max_absorption_value)\n",
    "print(f\"The temperature at which the absorption reaches a maximum is {max_absorption_temperature} degrees Celsius.\")"
   ]
  },
  {
   "cell_type": "code",
   "execution_count": 33,
   "id": "ed9fe38a",
   "metadata": {},
   "outputs": [],
   "source": [
    "from sklearn.linear_model import LinearRegression\n",
    "from sklearn.preprocessing import PolynomialFeatures"
   ]
  },
  {
   "cell_type": "code",
   "execution_count": 61,
   "id": "738149a5",
   "metadata": {},
   "outputs": [],
   "source": [
    "import pandas as pd\n",
    "from sklearn.linear_model import LinearRegression\n",
    "from sklearn.model_selection import train_test_split\n",
    "from sklearn.preprocessing import PolynomialFeatures\n",
    "\n",
    "# Load the dataset\n",
    "data = pd.read_csv('080923nucl.csv', names=['Temperature', 'Absorption'])\n",
    "\n",
    "# Split the dataset into features and target variable\n",
    "X = data.iloc[:, :-1].values\n",
    "y = data.iloc[:, -1].values\n",
    "\n",
    "# Split the dataset into training and validation sets\n",
    "X_train, X_val, y_train, y_val = train_test_split(X, y, test_size=0.2, random_state=42)\n",
    "\n",
    "# Transform the features to include polynomial terms up to degree 2:\n",
    "poly = PolynomialFeatures(degree=7)\n",
    "X_train_poly = poly.fit_transform(X_train)\n",
    "X_val_poly = poly.transform(X_val)\n",
    "\n",
    "# Fit the transformed features to Linear Regression\n",
    "poly_reg = LinearRegression()\n",
    "poly_reg.fit(X_train_poly, y_train)\n",
    "\n",
    "# Predict new results with the model\n",
    "y_pred = poly_reg.predict(X_val_poly)\n"
   ]
  },
  {
   "cell_type": "code",
   "execution_count": 62,
   "id": "c75f7069",
   "metadata": {},
   "outputs": [
    {
     "name": "stdout",
     "output_type": "stream",
     "text": [
      "R^2 score: 0.9985\n"
     ]
    }
   ],
   "source": [
    "from sklearn.metrics import r2_score\n",
    "\n",
    "# Calculate the R^2 value for the validation set\n",
    "r2 = r2_score(y_val, y_pred)\n",
    "\n",
    "print(f'R^2 score: {r2:.4f}')\n"
   ]
  },
  {
   "cell_type": "code",
   "execution_count": 66,
   "id": "b1c456f5",
   "metadata": {},
   "outputs": [
    {
     "name": "stdout",
     "output_type": "stream",
     "text": [
      "[array([0.46725664]), array([0.4618115]), array([0.44107114]), array([0.39804564]), array([0.32390317]), array([0.20767238]), array([0.03591778]), array([-0.207613])]\n"
     ]
    }
   ],
   "source": [
    "new_temp = [66, 67, 68, 69, 70, 71, 72, 73]\n",
    "new_absorp = []\n",
    "\n",
    "for temp in new_temp:\n",
    "    new_X = np.array([[temp]])\n",
    "    new_X_poly = poly.transform(new_X)\n",
    "    new_y_pred = poly_reg.predict(new_X_poly)\n",
    "    new_absorp.append(new_y_pred)\n",
    "\n",
    "print(new_absorp)"
   ]
  },
  {
   "cell_type": "code",
   "execution_count": null,
   "id": "f99ba821",
   "metadata": {},
   "outputs": [],
   "source": []
  }
 ],
 "metadata": {
  "kernelspec": {
   "display_name": "Python 3 (ipykernel)",
   "language": "python",
   "name": "python3"
  },
  "language_info": {
   "codemirror_mode": {
    "name": "ipython",
    "version": 3
   },
   "file_extension": ".py",
   "mimetype": "text/x-python",
   "name": "python",
   "nbconvert_exporter": "python",
   "pygments_lexer": "ipython3",
   "version": "3.9.7"
  }
 },
 "nbformat": 4,
 "nbformat_minor": 5
}
